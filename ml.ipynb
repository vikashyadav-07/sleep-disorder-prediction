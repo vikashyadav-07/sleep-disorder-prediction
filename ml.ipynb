{
 "cells": [
  {
   "cell_type": "code",
   "execution_count": 16,
   "metadata": {},
   "outputs": [],
   "source": [
    "import pandas as pd\n",
    "raw_df = pd.read_csv(\"Sleep_health_and_lifestyle_dataset (1).csv\")\n",
    "\n"
   ]
  },
  {
   "cell_type": "code",
   "execution_count": 17,
   "metadata": {},
   "outputs": [
    {
     "name": "stderr",
     "output_type": "stream",
     "text": [
      "C:\\Users\\Vikash\\AppData\\Local\\Temp\\ipykernel_19888\\1726435269.py:1: FutureWarning: A value is trying to be set on a copy of a DataFrame or Series through chained assignment using an inplace method.\n",
      "The behavior will change in pandas 3.0. This inplace method will never work because the intermediate object on which we are setting values always behaves as a copy.\n",
      "\n",
      "For example, when doing 'df[col].method(value, inplace=True)', try using 'df.method({col: value}, inplace=True)' or df[col] = df[col].method(value) instead, to perform the operation inplace on the original object.\n",
      "\n",
      "\n",
      "  raw_df['Sleep Disorder'].fillna('None', inplace=True)\n"
     ]
    }
   ],
   "source": [
    "raw_df['Sleep Disorder'].fillna('None', inplace=True)"
   ]
  },
  {
   "cell_type": "code",
   "execution_count": 18,
   "metadata": {},
   "outputs": [],
   "source": [
    "raw_df.drop('Person ID', axis=1, inplace=True)"
   ]
  },
  {
   "cell_type": "code",
   "execution_count": 19,
   "metadata": {},
   "outputs": [
    {
     "name": "stdout",
     "output_type": "stream",
     "text": [
      "Unique values in each column are:\n",
      "Gender 2\n",
      "Age 31\n",
      "Occupation 11\n",
      "Sleep Duration 27\n",
      "Quality of Sleep 6\n",
      "Physical Activity Level 16\n",
      "Stress Level 6\n",
      "BMI Category 4\n",
      "Blood Pressure 25\n",
      "Heart Rate 19\n",
      "Daily Steps 20\n",
      "Sleep Disorder 3\n"
     ]
    }
   ],
   "source": [
    "print(\"Unique values in each column are:\")\n",
    "for col in raw_df.columns:\n",
    "    print(col,raw_df[col].nunique())"
   ]
  },
  {
   "cell_type": "code",
   "execution_count": 20,
   "metadata": {},
   "outputs": [],
   "source": [
    "df=raw_df"
   ]
  },
  {
   "cell_type": "code",
   "execution_count": 21,
   "metadata": {},
   "outputs": [],
   "source": [
    "df['systolic_bp'] = df['Blood Pressure'].apply(lambda x: x.split('/')[0])\n",
    "df['diastolic_bp'] = df['Blood Pressure'].apply(lambda x: x.split('/')[1])\n",
    "#droping the blood pressure column\n",
    "df.drop('Blood Pressure', axis=1, inplace=True)"
   ]
  },
  {
   "cell_type": "code",
   "execution_count": 22,
   "metadata": {},
   "outputs": [],
   "source": [
    "df['BMI Category'] = df['BMI Category'].replace('Normal Weight', 'Normal')"
   ]
  },
  {
   "cell_type": "code",
   "execution_count": 23,
   "metadata": {},
   "outputs": [],
   "source": [
    "from sklearn.preprocessing import LabelEncoder\n",
    "\n",
    "label_encoder = LabelEncoder()\n",
    "df['Sleep Disorder'] = label_encoder.fit_transform(df['Sleep Disorder'])\n"
   ]
  },
  {
   "cell_type": "code",
   "execution_count": 24,
   "metadata": {},
   "outputs": [],
   "source": [
    "df = pd.get_dummies(df, columns=['Occupation', 'Gender','BMI Category'], drop_first=True)\n"
   ]
  },
  {
   "cell_type": "code",
   "execution_count": 25,
   "metadata": {},
   "outputs": [],
   "source": [
    "df.to_csv('Modified_Sleep_Health.csv' ,index=False)"
   ]
  },
  {
   "cell_type": "code",
   "execution_count": 26,
   "metadata": {},
   "outputs": [],
   "source": [
    "X = df.drop(columns=['Sleep Disorder'])\n",
    "y = df['Sleep Disorder']"
   ]
  },
  {
   "cell_type": "code",
   "execution_count": 27,
   "metadata": {},
   "outputs": [],
   "source": [
    "from sklearn.model_selection import train_test_split"
   ]
  },
  {
   "cell_type": "code",
   "execution_count": 28,
   "metadata": {},
   "outputs": [],
   "source": [
    "# Split into training (70%), validation (15%), and test (15%)\n",
    "X_train, X_temp, y_train, y_temp = train_test_split(X, y, test_size=0.3, random_state=42, stratify=y)\n",
    "X_val, X_test, y_val, y_test = train_test_split(X_temp, y_temp, test_size=0.5, random_state=42, stratify=y_temp)\n"
   ]
  },
  {
   "cell_type": "code",
   "execution_count": 29,
   "metadata": {},
   "outputs": [],
   "source": [
    "import pandas as pd\n",
    "import numpy as np\n",
    "from sklearn.model_selection import train_test_split\n",
    "from sklearn.preprocessing import LabelEncoder, OneHotEncoder\n",
    "from sklearn.linear_model import LogisticRegression\n",
    "from sklearn.metrics import accuracy_score"
   ]
  },
  {
   "cell_type": "code",
   "execution_count": 30,
   "metadata": {},
   "outputs": [
    {
     "name": "stdout",
     "output_type": "stream",
     "text": [
      "Validation Accuracy: 0.8929\n"
     ]
    },
    {
     "name": "stderr",
     "output_type": "stream",
     "text": [
      "c:\\Users\\Vikash\\.conda\\envs\\myenv\\Lib\\site-packages\\sklearn\\linear_model\\_logistic.py:465: ConvergenceWarning: lbfgs failed to converge (status=1):\n",
      "STOP: TOTAL NO. OF ITERATIONS REACHED LIMIT.\n",
      "\n",
      "Increase the number of iterations (max_iter) or scale the data as shown in:\n",
      "    https://scikit-learn.org/stable/modules/preprocessing.html\n",
      "Please also refer to the documentation for alternative solver options:\n",
      "    https://scikit-learn.org/stable/modules/linear_model.html#logistic-regression\n",
      "  n_iter_i = _check_optimize_result(\n"
     ]
    }
   ],
   "source": [
    "# Train Logistic Regression Model\n",
    "model = LogisticRegression(max_iter=1000)\n",
    "model.fit(X_train, y_train)\n",
    "\n",
    "# Predictions on Validation Set\n",
    "y_val_pred = model.predict(X_val)\n",
    "\n",
    "# Evaluate Model\n",
    "accuracy = accuracy_score(y_val, y_val_pred)\n",
    "print(f\"Validation Accuracy: {accuracy:.4f}\")\n"
   ]
  },
  {
   "cell_type": "markdown",
   "metadata": {},
   "source": [
    "# logistic regression gives 96 percent accuracy"
   ]
  },
  {
   "cell_type": "code",
   "execution_count": 31,
   "metadata": {},
   "outputs": [
    {
     "name": "stdout",
     "output_type": "stream",
     "text": [
      "Test Accuracy: 0.9649\n"
     ]
    }
   ],
   "source": [
    "# Predictions on Test Set\n",
    "y_test_pred = model.predict(X_test)\n",
    "\n",
    "# Final Test Accuracy\n",
    "test_accuracy = accuracy_score(y_test, y_test_pred)\n",
    "print(f\"Test Accuracy: {test_accuracy:.4f}\")\n"
   ]
  },
  {
   "cell_type": "markdown",
   "metadata": {},
   "source": [
    "# decison tree"
   ]
  },
  {
   "cell_type": "code",
   "execution_count": 32,
   "metadata": {},
   "outputs": [
    {
     "name": "stdout",
     "output_type": "stream",
     "text": [
      "Validation Accuracy: 0.8929\n",
      "Test Accuracy: 0.9474\n"
     ]
    }
   ],
   "source": [
    "import pandas as pd\n",
    "import numpy as np\n",
    "from sklearn.model_selection import train_test_split\n",
    "from sklearn.preprocessing import StandardScaler\n",
    "from sklearn.tree import DecisionTreeClassifier\n",
    "from sklearn.metrics import accuracy_score\n",
    "\n",
    "# Load Modified Dataset\n",
    "df = pd.read_csv('Modified_Sleep_Health.csv')\n",
    "\n",
    "# Split features and target variable\n",
    "X = df.drop(columns=['Sleep Disorder'])\n",
    "y = df['Sleep Disorder']\n",
    "\n",
    "# Split into training (70%), validation (15%), and test (15%)\n",
    "X_train, X_temp, y_train, y_temp = train_test_split(X, y, test_size=0.3, random_state=42, stratify=y)\n",
    "X_val, X_test, y_val, y_test = train_test_split(X_temp, y_temp, test_size=0.5, random_state=42, stratify=y_temp)\n",
    "\n",
    "# Standardize features (optional for Decision Tree, but improves stability)\n",
    "scaler = StandardScaler()\n",
    "X_train = scaler.fit_transform(X_train)\n",
    "X_val = scaler.transform(X_val)\n",
    "X_test = scaler.transform(X_test)\n",
    "\n",
    "# Train Decision Tree Classifier\n",
    "dt_model = DecisionTreeClassifier(criterion='gini', max_depth=10, random_state=42)\n",
    "dt_model.fit(X_train, y_train)\n",
    "\n",
    "# Predictions on Validation Set\n",
    "y_val_pred = dt_model.predict(X_val)\n",
    "\n",
    "# Evaluate Model\n",
    "val_accuracy = accuracy_score(y_val, y_val_pred)\n",
    "print(f\"Validation Accuracy: {val_accuracy:.4f}\")\n",
    "\n",
    "# Predictions on Test Set\n",
    "y_test_pred = dt_model.predict(X_test)\n",
    "\n",
    "# Final Test Accuracy\n",
    "test_accuracy = accuracy_score(y_test, y_test_pred)\n",
    "print(f\"Test Accuracy: {test_accuracy:.4f}\")\n"
   ]
  },
  {
   "cell_type": "markdown",
   "metadata": {},
   "source": [
    "# random forest"
   ]
  },
  {
   "cell_type": "code",
   "execution_count": 33,
   "metadata": {},
   "outputs": [
    {
     "name": "stdout",
     "output_type": "stream",
     "text": [
      "Validation Accuracy: 0.9107\n",
      "Test Accuracy: 0.9649\n"
     ]
    }
   ],
   "source": [
    "import pandas as pd\n",
    "import numpy as np\n",
    "from sklearn.model_selection import train_test_split\n",
    "from sklearn.preprocessing import StandardScaler\n",
    "from sklearn.ensemble import RandomForestClassifier\n",
    "from sklearn.metrics import accuracy_score\n",
    "\n",
    "# Load Modified Dataset\n",
    "df = pd.read_csv('Modified_Sleep_Health.csv')\n",
    "\n",
    "# Split features and target variable\n",
    "X = df.drop(columns=['Sleep Disorder'])\n",
    "y = df['Sleep Disorder']\n",
    "\n",
    "# Split into training (70%), validation (15%), and test (15%)\n",
    "X_train, X_temp, y_train, y_temp = train_test_split(X, y, test_size=0.3, random_state=42, stratify=y)\n",
    "X_val, X_test, y_val, y_test = train_test_split(X_temp, y_temp, test_size=0.5, random_state=42, stratify=y_temp)\n",
    "\n",
    "# Standardize features (optional for Random Forest)\n",
    "scaler = StandardScaler()\n",
    "X_train = scaler.fit_transform(X_train)\n",
    "X_val = scaler.transform(X_val)\n",
    "X_test = scaler.transform(X_test)\n",
    "\n",
    "# Train Random Forest Classifier\n",
    "rf_model = RandomForestClassifier(n_estimators=100, max_depth=10, random_state=42)\n",
    "rf_model.fit(X_train, y_train)\n",
    "\n",
    "# Predictions on Validation Set\n",
    "y_val_pred = rf_model.predict(X_val)\n",
    "\n",
    "# Evaluate Model\n",
    "val_accuracy = accuracy_score(y_val, y_val_pred)\n",
    "print(f\"Validation Accuracy: {val_accuracy:.4f}\")\n",
    "\n",
    "# Predictions on Test Set\n",
    "y_test_pred = rf_model.predict(X_test)\n",
    "\n",
    "# Final Test Accuracy\n",
    "test_accuracy = accuracy_score(y_test, y_test_pred)\n",
    "print(f\"Test Accuracy: {test_accuracy:.4f}\")\n"
   ]
  },
  {
   "cell_type": "markdown",
   "metadata": {},
   "source": [
    "# svm"
   ]
  },
  {
   "cell_type": "code",
   "execution_count": 34,
   "metadata": {},
   "outputs": [
    {
     "name": "stdout",
     "output_type": "stream",
     "text": [
      "Validation Accuracy: 0.8214\n",
      "Test Accuracy: 0.9825\n"
     ]
    }
   ],
   "source": [
    "import pandas as pd\n",
    "import numpy as np\n",
    "from sklearn.model_selection import train_test_split\n",
    "from sklearn.preprocessing import StandardScaler\n",
    "from sklearn.svm import SVC\n",
    "from sklearn.metrics import accuracy_score\n",
    "\n",
    "# Load Modified Dataset\n",
    "df = pd.read_csv('Modified_Sleep_Health.csv')\n",
    "\n",
    "# Split features and target variable\n",
    "X = df.drop(columns=['Sleep Disorder'])\n",
    "y = df['Sleep Disorder']\n",
    "\n",
    "# Split into training (70%), validation (15%), and test (15%)\n",
    "X_train, X_temp, y_train, y_temp = train_test_split(X, y, test_size=0.3, random_state=42, stratify=y)\n",
    "X_val, X_test, y_val, y_test = train_test_split(X_temp, y_temp, test_size=0.5, random_state=42, stratify=y_temp)\n",
    "\n",
    "# Standardize features (important for SVM)\n",
    "scaler = StandardScaler()\n",
    "X_train = scaler.fit_transform(X_train)\n",
    "X_val = scaler.transform(X_val)\n",
    "X_test = scaler.transform(X_test)\n",
    "\n",
    "# Train SVM Classifier with RBF kernel\n",
    "svm_model = SVC(kernel='rbf', C=1.0, gamma='scale', random_state=42)\n",
    "svm_model.fit(X_train, y_train)\n",
    "\n",
    "# Predictions on Validation Set\n",
    "y_val_pred = svm_model.predict(X_val)\n",
    "\n",
    "# Evaluate Model\n",
    "val_accuracy = accuracy_score(y_val, y_val_pred)\n",
    "print(f\"Validation Accuracy: {val_accuracy:.4f}\")\n",
    "\n",
    "# Predictions on Test Set\n",
    "y_test_pred = svm_model.predict(X_test)\n",
    "\n",
    "# Final Test Accuracy\n",
    "test_accuracy = accuracy_score(y_test, y_test_pred)\n",
    "print(f\"Test Accuracy: {test_accuracy:.4f}\")\n"
   ]
  },
  {
   "cell_type": "markdown",
   "metadata": {},
   "source": [
    "# knn algorithm"
   ]
  },
  {
   "cell_type": "code",
   "execution_count": 35,
   "metadata": {},
   "outputs": [
    {
     "name": "stdout",
     "output_type": "stream",
     "text": [
      "KNN Test Accuracy: 0.9824561403508771\n"
     ]
    }
   ],
   "source": [
    "from sklearn.neighbors import KNeighborsClassifier\n",
    "\n",
    "knn_model = KNeighborsClassifier(n_neighbors=5)\n",
    "knn_model.fit(X_train, y_train)\n",
    "y_pred_knn = knn_model.predict(X_test)\n",
    "print(\"KNN Test Accuracy:\", accuracy_score(y_test, y_pred_knn))\n"
   ]
  },
  {
   "cell_type": "code",
   "execution_count": 36,
   "metadata": {},
   "outputs": [
    {
     "data": {
      "text/plain": [
       "Index(['Age', 'Sleep Duration', 'Quality of Sleep', 'Physical Activity Level',\n",
       "       'Stress Level', 'Heart Rate', 'Daily Steps', 'Sleep Disorder',\n",
       "       'systolic_bp', 'diastolic_bp', 'Occupation_Doctor',\n",
       "       'Occupation_Engineer', 'Occupation_Lawyer', 'Occupation_Manager',\n",
       "       'Occupation_Nurse', 'Occupation_Sales Representative',\n",
       "       'Occupation_Salesperson', 'Occupation_Scientist',\n",
       "       'Occupation_Software Engineer', 'Occupation_Teacher', 'Gender_Male',\n",
       "       'BMI Category_Obese', 'BMI Category_Overweight'],\n",
       "      dtype='object')"
      ]
     },
     "execution_count": 36,
     "metadata": {},
     "output_type": "execute_result"
    }
   ],
   "source": [
    "df.columns"
   ]
  },
  {
   "cell_type": "code",
   "execution_count": 37,
   "metadata": {},
   "outputs": [
    {
     "name": "stdout",
     "output_type": "stream",
     "text": [
      "Column: Age\n",
      "Unique Values: [27 28 29 30 31 32 33 34 35 36 37 38 39 40 41 42 43 44 45 48 49 50 51 52\n",
      " 53 54 55 56 57 58 59]\n",
      "\n",
      "Column: Sleep Duration\n",
      "Unique Values: [6.1 6.2 5.9 6.3 7.8 6.  6.5 7.6 7.7 7.9 6.4 7.5 7.2 5.8 6.7 7.3 7.4 7.1\n",
      " 6.6 6.9 8.  6.8 8.1 8.3 8.5 8.4 8.2]\n",
      "\n",
      "Column: Quality of Sleep\n",
      "Unique Values: [6 4 7 5 8 9]\n",
      "\n",
      "Column: Physical Activity Level\n",
      "Unique Values: [42 60 30 40 75 35 45 50 32 70 80 55 90 47 65 85]\n",
      "\n",
      "Column: Stress Level\n",
      "Unique Values: [6 8 7 4 3 5]\n",
      "\n",
      "Column: Heart Rate\n",
      "Unique Values: [77 75 85 82 70 80 78 69 72 68 76 81 65 84 74 67 73 83 86]\n",
      "\n",
      "Column: Daily Steps\n",
      "Unique Values: [ 4200 10000  3000  3500  8000  4000  4100  6800  5000  7000  5500  5200\n",
      "  5600  3300  4800  7500  7300  6200  6000  3700]\n",
      "\n",
      "Column: Sleep Disorder\n",
      "Unique Values: [1 2 0]\n",
      "\n",
      "Column: systolic_bp\n",
      "Unique Values: [126 125 140 120 132 130 117 118 128 131 115 135 129 119 121 122 142 139]\n",
      "\n",
      "Column: diastolic_bp\n",
      "Unique Values: [83 80 90 87 86 76 85 84 75 88 78 77 79 82 92 95 91]\n",
      "\n",
      "Column: Occupation_Doctor\n",
      "Unique Values: [False  True]\n",
      "\n",
      "Column: Occupation_Engineer\n",
      "Unique Values: [False  True]\n",
      "\n",
      "Column: Occupation_Lawyer\n",
      "Unique Values: [False  True]\n",
      "\n",
      "Column: Occupation_Manager\n",
      "Unique Values: [False  True]\n",
      "\n",
      "Column: Occupation_Nurse\n",
      "Unique Values: [False  True]\n",
      "\n",
      "Column: Occupation_Sales Representative\n",
      "Unique Values: [False  True]\n",
      "\n",
      "Column: Occupation_Salesperson\n",
      "Unique Values: [False  True]\n",
      "\n",
      "Column: Occupation_Scientist\n",
      "Unique Values: [False  True]\n",
      "\n",
      "Column: Occupation_Software Engineer\n",
      "Unique Values: [ True False]\n",
      "\n",
      "Column: Occupation_Teacher\n",
      "Unique Values: [False  True]\n",
      "\n",
      "Column: Gender_Male\n",
      "Unique Values: [ True False]\n",
      "\n",
      "Column: BMI Category_Obese\n",
      "Unique Values: [False  True]\n",
      "\n",
      "Column: BMI Category_Overweight\n",
      "Unique Values: [ True False]\n",
      "\n"
     ]
    }
   ],
   "source": [
    "for column in df.columns:\n",
    "    unique_values = df[column].unique()\n",
    "    print(f\"Column: {column}\")\n",
    "    print(f\"Unique Values: {unique_values}\\n\")"
   ]
  },
  {
   "cell_type": "code",
   "execution_count": 38,
   "metadata": {},
   "outputs": [
    {
     "name": "stdout",
     "output_type": "stream",
     "text": [
      "Feature Names: ['Age', 'Sleep Duration', 'Quality of Sleep', 'Physical Activity Level', 'Stress Level', 'Heart Rate', 'Daily Steps', 'systolic_bp', 'diastolic_bp', 'Occupation_Doctor', 'Occupation_Engineer', 'Occupation_Lawyer', 'Occupation_Manager', 'Occupation_Nurse', 'Occupation_Sales Representative', 'Occupation_Salesperson', 'Occupation_Scientist', 'Occupation_Software Engineer', 'Occupation_Teacher', 'Gender_Male', 'BMI Category_Obese', 'BMI Category_Overweight']\n",
      "Number of Features: 22\n"
     ]
    }
   ],
   "source": [
    "import pickle\n",
    "\n",
    "# Save the models\n",
    "pickle.dump(model, open(\"logistic_model.pkl\", \"wb\"))  # Logistic Regression\n",
    "pickle.dump(dt_model, open(\"decision_tree_model.pkl\", \"wb\"))  # Decision Tree\n",
    "pickle.dump(rf_model, open(\"random_forest_model.pkl\", \"wb\"))  # Random Forest\n",
    "pickle.dump(svm_model, open(\"svm_model.pkl\", \"wb\"))  # SVM\n",
    "pickle.dump(knn_model, open(\"knn_model.pkl\", \"wb\"))  # KNN\n",
    "\n",
    "# Save the scaler (used by all models except Logistic Regression)\n",
    "pickle.dump(scaler, open(\"scaler.pkl\", \"wb\"))\n",
    "\n",
    "# Save the label encoder for Sleep Disorder\n",
    "pickle.dump(label_encoder, open(\"label_encoder.pkl\", \"wb\"))\n",
    "\n",
    "# Save the feature names\n",
    "feature_names = X.columns.tolist()\n",
    "pickle.dump(feature_names, open(\"feature_names.pkl\", \"wb\"))\n",
    "\n",
    "# Print feature names for reference\n",
    "print(\"Feature Names:\", feature_names)\n",
    "print(\"Number of Features:\", len(feature_names))"
   ]
  }
 ],
 "metadata": {
  "kernelspec": {
   "display_name": "Python 3",
   "language": "python",
   "name": "python3"
  },
  "language_info": {
   "codemirror_mode": {
    "name": "ipython",
    "version": 3
   },
   "file_extension": ".py",
   "mimetype": "text/x-python",
   "name": "python",
   "nbconvert_exporter": "python",
   "pygments_lexer": "ipython3",
   "version": "3.11.11"
  }
 },
 "nbformat": 4,
 "nbformat_minor": 2
}
